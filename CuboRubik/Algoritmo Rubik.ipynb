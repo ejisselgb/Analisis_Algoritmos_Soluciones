{
 "cells": [
  {
   "cell_type": "markdown",
   "metadata": {},
   "source": [
    "# Análisis de algoritmo cubo rubik 3x3"
   ]
  },
  {
   "cell_type": "markdown",
   "metadata": {},
   "source": [
    "Un cubo de rubik particularmente el de 3x3 cuenta con varios algoritmos enfocados en la resolución de las caras en la menor cantidad de pasos posibles. \n",
    "\n",
    "Algunos algoritmos determinan la posibilidad de hacer que cada cara del cubo sea igual en 56 o 34 movimientos, hasta 20. A este último se le conoce como el número de Dios.\n",
    "\n",
    "Para alcanzar el número de movimientos minímo, se realiza un estudio basado en las características que posee el cubo de Rubik. Estas características permiten definir los procesos matemáticos que se necesitan para establecer el número de movimientos necesarios que permitan armar cada cara del mismo color. Las características se describen a continuación:\n",
    "\n",
    "1 - El cubo cuenta con 8 esquinas, estas pueden permutar y girar. Las posibilidades de giro están dadas por 3^8, donde el 3 corresponde al número de caras que conforman la esquina del cubo. \n",
    "\n",
    "2 - El cubo cuenta con 12 aristas, las cuales pueden cambiar a dos estados, pues estas solo cuentan con dos caras. Las posibilidades de giros están dados por 2^12\n",
    "\n",
    "3 - Las permutaciones para las esquinas se definen por 8! y para las aristas 12!\n",
    "\n",
    "4 - El cubo cuenta con 54 pegatinas (Cuadros de color que conforman cada cara), sin embargo al momento de realizar los cálculos solo se consideran los componentes que pueden moverse en el cubo, como son las esquinas y las aristas. Al descartar los centros del cubo, se cuenta con 48 piezas movibles (48 pegatinas).\n",
    "\n",
    "5 - El número de combinaciones posibles para cubo Rubik 3x3 está dado por la siguiente fórmula\n",
    "\n",
    "8!(Número de permutaciones)*3^7(Número de posibles giros) -> Cálculo para las esquinas del cubo\n",
    "\n",
    "12!(Número de permutaciones de las aristas)*2^12(Número de posibles giros) -> Cálculo para las aristas del cubo\n",
    "\n",
    "8!*3^7*12!*2^12 / 2*3*2 \n",
    "\n",
    "6 - En el divisor: 3 corresponde a los móvimientos de los vértices; y 2 al módulo de movimientos para las aristas.\n",
    "\n",
    "7 - El número total de combinaciones posibles para el cubo es de 4325200327448986000 (Resultado de la fórmula del punto 5)"
   ]
  },
  {
   "cell_type": "code",
   "execution_count": 11,
   "metadata": {},
   "outputs": [
    {
     "name": "stdout",
     "output_type": "stream",
     "text": [
      "El número de combinaciones para el cubo de Rubik 3x3 es: \n",
      "43252003274489856000\n"
     ]
    }
   ],
   "source": [
    "#Validando formula de posibles combinaciones del cubo\n",
    "\n",
    "def numberCombinatory():\n",
    "    permutations = 3**8\n",
    "    edges = 2**12\n",
    "    combinations = (factorialNumber(8) * permutations * factorialNumber(12) * edges) / (2*3*2)\n",
    "    print (\"El número de combinaciones para el cubo de Rubik 3x3 es: \")\n",
    "    print(combinations)\n",
    "    \n",
    "def factorialNumber(number):\n",
    "    if (number == 0): return 1\n",
    "    return number * factorialNumber (number-1)\n",
    "\n",
    "numberCombinatory()"
   ]
  },
  {
   "cell_type": "markdown",
   "metadata": {},
   "source": [
    "8 - Para la solución de las combinaciones que permiten armar el cubo de Rubik se hace uso de la teoría de conjuntos, problema del conjunto de cobertura, teorema de enumeración Polya o algoritmo de dos fases de Kociemba. Estos principalmente hacen parte del algoritmo para la solución del cubo por medio del número de Dios.\n",
    "\n",
    "9 - El giro o movimiento de cada cara se le conoce como la métrica de la media vuelta\n",
    "\n",
    "10 - Hay 24 formas diferentes para orientar el cubo en el espacio\n",
    "\n",
    "11 - Cada grupo elegido para armar el conjunto de combinaciones es evaluado a través de la unión de conjuntos. Esta unión debe contener todos los elementos del universo de combinatorias del cubo. Por medio de este problema se busca que las combinatorias elegidas puedan orientar las pegatinas para que hagan parte de la cara correspondiente, disminuyendo la cantidad de movimientos necesarios para armar una cara, pues en algún momento pueden coincidir los patrones cuando se repiten características de color y orden.\n",
    "\n",
    "12 - Hay un conjunto de características predecibles que permitirán el conteo de pasos y patrones para la construcción del cubo. Esto se presenta ya que al limitar las posibles combinatorias en conjuntos o grupos más pequeños los comportamientos coincidenciales pueden ocurrir con mayor frecuencia, por lo que los pasos o patrones establecidos para armar el cubo cubrirán con éxito varios grupos del conjunto.\n",
    "\n",
    "13 - A partir del algoritmo de Kociemba se definen distintas etapas que pueden ser coincidenciales en infinidades de casos para lograr la resolución de un cubo Rubik. Los patrones se estructuran por etapas, al igual que se definen las formas resultantes o esperdas de cada sub-etapa, para finalmene al unir todos los pasos, obtener un cubo de Rubik con todas sus caras en el lugar correspondientes.\n",
    "\n",
    "14 - Los movimientos más óptimos (menor número de pasos, y menos tiempo de ejecución) se enumeran de tal forma que puedan definir un camino para lograr la estructura final del cubo.\n"
   ]
  },
  {
   "cell_type": "markdown",
   "metadata": {},
   "source": [
    "# Para lograr el número de Dios\n",
    "\n",
    "Para construir cada cara del cubo en el menor número posible de movimientos, se tomó el número total de combinaciones y se redujo a 2.217.093.20 conjuntos de posiciones, donde a través de la simetría y cobertura de conjuntos se disminuyó el recuento de los conjuntos totales. Al final para el procedimiento se contaba con 55.882.296 conjuntos.\n",
    "\n",
    "Para armar el cubo se utiliza la connotación U (Arriba), F (Frente), R (Derecha), L (Izquierda), B (Atrás), D (Abajo). Cuando es necesario indicar el número de giros se antepone al valor de la connotación el número, cuando aparece la apostrofe ('), se indica que el movimiento será al contrario (Contra las manecillas del reloj).\n",
    "\n",
    "Los movimientos del cubo se realizan normalmente en sentido horario, siguiendo las manecillas del reloj. Para el caso invertido, el movimiento será antihorario, en contra de las manecillas del reloj.\n",
    "\n",
    "Para armar el cubo se propone seguir el siguiente algoritmo (Se representa a través de un diagrama de flujo):\n",
    "\n",
    "Este flujo coincide con la secuencia establecida para armar una cara siguiendo el menor número de pasos posibles. Es necesario resaltar que algunas veces las características esperadas pueden no coincidir, dada la gran cantidad de conjuntos y posibles combinatorias."
   ]
  },
  {
   "attachments": {},
   "cell_type": "markdown",
   "metadata": {},
   "source": [
    "\\usepackage{float}\n",
    "\\floatplacement{figure}{H}\n",
    "\\graphicspath{ {imgs/} }\n",
    "\n",
    "\\begin{document}\n",
    "\n",
    "\\includegraphics{flujo.png}\n",
    "\n",
    "\\end{document}\n",
    "\n",
    "\n"
   ]
  },
  {
   "cell_type": "markdown",
   "metadata": {},
   "source": [
    "# Número de combinaciones para cubos de otros tamaños\n",
    "\n",
    "Como adicional, cada cubo dependiendo de las dimensiones tiene una manera de ser resulto, por lo que, para conocer las posibles combinaciones que tiene un cubo nxn, se define la siguiente fórmula."
   ]
  },
  {
   "cell_type": "code",
   "execution_count": 58,
   "metadata": {},
   "outputs": [
    {
     "name": "stdout",
     "output_type": "stream",
     "text": [
      "Número de posibles combinaciones para cubos cuadrados\n",
      "43252003274489856000\n"
     ]
    }
   ],
   "source": [
    "#Combinatoria para cubos de forma cuadrada - Pares\n",
    "def combinatory(number):\n",
    "    \n",
    "    part1 = (factorialNumber(8)*(3**7))\n",
    "    part2 = factorialNumber ((12*number) - (24 * (number/2)))\n",
    "    part3 = 2**(10*(number-2*(number/2)))\n",
    "    part4 = factorialNumber(24)\n",
    "    expo = (((number - 2)/2)*(1+((number-2)/2)))\n",
    "    expo2= ((number -2) / 2) * ((number -2) / 2)\n",
    "    \n",
    "    combinatoryRes = (part1 * part2 * part3 * (part4 ** expo)) / (((24**(6*expo2))) * 24 + (46 * (number/2)) - (23 * number))\n",
    "    \n",
    "    print (\"Número de posibles combinaciones para cubos cuadrados - Impares\")\n",
    "    print (combinatoryRes)\n",
    "\n",
    "combinatory(3)"
   ]
  },
  {
   "cell_type": "markdown",
   "metadata": {},
   "source": [
    "- En la fórmula el valor que ingresa a la función equivale al número nxn (tamaño del cubo). \n",
    "- Para todos los casos que N sea impar se contará con un centro fijo\n",
    "- 24 es el número de las posibles formas de orientar el cubo\n",
    "- 8 es el número de esquinas\n",
    "- 12 es el número de aristas\n",
    "- El número de esquinas y aristas factorial da como resultado el número de posibles permutaciones\n",
    "- Los centros de la cara no fijos se distrbuyen en grupos de 24, para el caso par e impar esto se denota por ((N−2)/2)*((N−2)/2)\n",
    "- La parte4 y expo del código se relaciona con la posibilidad de permutar de cada cara en cualquier forma\n",
    "- La paridad de los vértices y las aristas debe ser la misma, por lo que se realiza la operación de la parte3\n",
    "\n"
   ]
  },
  {
   "cell_type": "markdown",
   "metadata": {},
   "source": [
    "# REFERENCIAS\n",
    "\n",
    "1. https://www.cube20.org/\n",
    "2. Solving the Rubik’s cube with deep reinforcement learning and search (https://doi.org/10.1038/s42256-019-0070-z)\n",
    "3. The Mathematics of the Rubik’s Cube - https://web.mit.edu/sp.268/www/rubik.pdf"
   ]
  }
 ],
 "metadata": {
  "kernelspec": {
   "display_name": "Python 2",
   "language": "python",
   "name": "python2"
  },
  "language_info": {
   "codemirror_mode": {
    "name": "ipython",
    "version": 2
   },
   "file_extension": ".py",
   "mimetype": "text/x-python",
   "name": "python",
   "nbconvert_exporter": "python",
   "pygments_lexer": "ipython2",
   "version": "2.7.16"
  }
 },
 "nbformat": 4,
 "nbformat_minor": 2
}

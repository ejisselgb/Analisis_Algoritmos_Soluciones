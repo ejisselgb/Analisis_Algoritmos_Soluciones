{
 "cells": [
  {
   "cell_type": "markdown",
   "metadata": {},
   "source": [
    "# Proyecto Final Curso: Análisis de Algoritmos parte I\n",
    "\n",
    "Contenido del documento:\n",
    "\n",
    "1. Introducción\n",
    "2. Planteamiento del problema\n",
    "3. Objetivo General\n",
    "4. Objetivos específicos\n",
    "5. Justificación\n",
    "6. Análisis inicial de los algoritmos\n",
    "7. Bibliografía"
   ]
  },
  {
   "cell_type": "markdown",
   "metadata": {},
   "source": [
    "# Introducción\n",
    "\n",
    "\n",
    "\n",
    "La motivación para la construcción de este proyecto se da a partir de las diversas posibilidades de obtener información sobre la experiencia de usuario al utilizar un producto, por medio del reconocimiento facial y las emociones. Este trabajo final de curso está asociado a una investigación previa llevada a cabo para el desarrollo del proyecto de grado. Aquí se realizará un análisis de los algoritmos que permiten la captura de emociones, al menos 2 de ellos, con el fin de identificar el más óptimo a implementar en la herramienta final.\n",
    "\n",
    "El análisis de los algoritmos que aquí se presentan, se ajustan a las necesidades planteadas inicialmente como lo son:  1) rápidez en la ejecución; 2) poco consumo de recursos computacionales; y 3) precisión en los resultados. Esto es necesario, pues el desarrollo final de la herramienta está pensado para ejecutarse en un ambiente web en tiempo real.\n",
    "\n",
    "Más allá de los problemas asociados a las características de compatibilidad con hardware que generalmente presentan los algoritmos, en este caso es necesario cubrir las necesidades a nivel de software, como por ejemplo, la precisión en el entrenamiento, para posteriormente realizar un etiquetado que concuerde con la realidad. Los algoritmos de reconocimiento facial son muy vulnerables, ya que el ser humano cuenta con la capacidad de ocultar sus emociones y reflejar otras que no corresponden a la realidad, causando que el etiquetado e identificación de una imagen no sea 100% acorde a lo que expresa una persona por medio del rostro.\n",
    "\n",
    "Por está razón, el análisis de los algoritmos a parte de los requisitos técnicos que se espera que cumpla, se enfocará en la precisión y capacidad de evaluar pequeñas secciones del rostro, para así analizar las emociones al detalle y hacer énfasis en la micro expresión y no la macro expresión. Pues bien como ya se conoce, hoy en día hay muchos algoritmos que prometen precisión en el reconocimiento de la macro expresión y rostro en general.\n",
    "\n",
    "\n",
    "En este trabajo se presenta el análisis de dos algoritmos para determinar el que mejor se ajusta al análisis de la microexpresión, con el fin de enfatizar en una técnica que pueda ser implementada en la herramienta final del proyecto de grado.\n"
   ]
  },
  {
   "cell_type": "markdown",
   "metadata": {},
   "source": [
    "# Planteamiento del problema\n",
    "\n",
    "Considerando el propósito del curso, el problema que se quiere analizar es la precisón de los algoritmos de reconocimiento facial para la detección de micro expresiones. Esto con el fin de identificar el algoritmo que mejor asocie un característica del rostro a un sentimiento de la vida real, para así mitigar el impacto que tienen las macro expresiones, ya que estas se pueden ocultar. \n",
    "\n",
    "En teoría las microexpresiones no pueden ocultarse, pues son acciones primitivas que están fuertemente relacionadas a las emociones básicas. Por esta razón y para identificar las posibilidades que ofrecen los algoritmos a nivel de confiabilidad, se estudiarán otros comportamientos a parte del rendimiento en una máquina.\n",
    "\n",
    "El problema que se plantea en este trabajo, radica en que los algoritmos de reconocimiento facial capturan características a gran escala, las cuales pueden pertenecer a otro conjunto de una emoción a representar, lo que causa que al momento de identificar una emoción el algoritmo pueda confundirse. Esto hace que sea necesario estudiar más a detalle las características del rostro primitivas que han sido descartadas en muchos casos por ser imperceptibles al ojo humano."
   ]
  },
  {
   "cell_type": "markdown",
   "metadata": {},
   "source": [
    "# Objetivo General\n",
    "\n",
    "Identificar el algoritmo de reconocimiento facial con mayor precisión al momento de evaluar características del rostro, para lograr asociar una microexpresión a una emoción"
   ]
  },
  {
   "cell_type": "markdown",
   "metadata": {},
   "source": [
    "# Objetivos Específicos\n",
    "\n",
    "1. Analizar los algoritmos Autocodificadores variacionales factorizados y máquinas de vectores de soporte, para determinar el que cuenta con mayores características de precisión en la detección de microexpresiones.\n",
    "\n",
    "2. Definir la serie de pasos y flujo necesario para llevar a cabo el reconocimiento facial haciendo uso del algoritmo seleccionado\n",
    "\n",
    "3. Construir un pequeño prototipo el cual permita validar el funcionamiento del algoritmo.\n"
   ]
  },
  {
   "cell_type": "markdown",
   "metadata": {},
   "source": [
    "# Justificación\n",
    "\n",
    "El análisis de los algoritmos para llevar a cabo el reconocimiento de emociones, permitirá identificar no solo el más óptimo y efectivo que cumple con el criterio de precisión en la detección, sino que además aportará de manera significativa al desarrollo del proyecto de grado. El estudio de los algoritmos es una actividad que debe realizarse, ya que hace parte de uno de los objetivos específicos no solo en este trabajo sino también en el proyecto.\n",
    "\n",
    "En este trabajo, el análisis aportará en gran manera al desarrollo de la herramienta final, la cual debe ejecutarse en un ambiente web y deberá permitir la evaluación de la experiencia de usuario, realizando la captura de los datos (rostro) en tiempo real. Como es necesario conocer el costo computacional, además del tiempo para la entrega de los resultados, se realizarán unos estudios previos de los diferentes algoritmos que proponen resolver el problema de la identificación de emociones, por medio de la unión de características y comportamientos similares de una cara para la validación de una emoción. \n",
    "\n",
    "Al determinar que a partir de la capacidad de identificar una cara omitiendo el ruido, es posible que se pueda interferir en el resultado, deberán probarse varios métodos de preprocesmiento, para enriquecer el algoritmo base de reconocimiento, y proporcionar mejores respuestas ante un evento captado desde la cámara web, con mayor agilidad y precisión."
   ]
  },
  {
   "cell_type": "markdown",
   "metadata": {},
   "source": [
    "# Análisis inicial de los algoritmos\n",
    "\n",
    "# 1. Autocodificadores variacionales factorizados\n",
    "\n",
    "Para lograr la identificación de una emoción en un rostro, esta técnica (FVAEs) se apoya en métodos y otros algoritmos externos para realizar la captura en tiempo real y el procesamiento de un rostro. \n",
    "\n",
    "Una de las aplicaciones más importantes que han tenido lo Autocodificadores variacionales factorizados, es la investigación llevada a cabo por Disney, en donde a través de un sistema de captura facial en tiempo real, se analizaba el comportamiento de los espectadores de sus películas en cine. Esto se realizó para identificar los tipos de emociones que logra Disney generar a través de sus historias principalmente animadas.\n",
    "\n",
    "Para la captura del rostro pueden afectar condiciones como la luz y distancia entre el individuo y la cámara. Dando que son muchas personas y es posible que encontrar ruido en los datos, es necesario llevar a cabo un preprocesamiento de la imagen, para seguidamente destacar los puntos clave, que han sido definidos en el entrenamiento previo del algoritmo con datos de prueba. La base de datos utilizada para el entrenamiento y prueba en este trabajo fue (HELEN https://github.com/zhfe99/helen).\n",
    "\n",
    "Para hacer uso e implementación de autocodificadores variacionales factorizados, se debe conocer el número total de los individuos a ser evaluados - N, tiempo total de la captura (en este caso duración de la película) - T. Cada individuo de manera individual está dado por i, y la reacción frame a frame se da por t, lo cual indica el tiempo del frame en el que la expresión facial fue  obtenida.\n",
    "\n",
    "Considerando que las personas tienen rasgos similares en la representación de las emociones, el algoritmo debe realizar la búsqueda de patrones similares en los individuos, para ahorrar tiempo y procesamiento en el análisis de los datos y proporcionar una pronta salida con la emoción encontrada para ese fragmento de tiempo. \n",
    "\n",
    "En el estudio de las emociones realizadas en este trabajo es importante identificar las expresiones similares de los miembros de la audencia, para así generalizar y agrupar. Esto se define con el nombre de Varianza. En el caso de la sincronización corresponde a la representación de la emoción en un individuo particular en un instante de tiempo, al ver una película.\n",
    "\n",
    "La captura de datos simultánea es compleja, y requiere mayores capacidades de cómputo, por eso se requiere hacer uso de algoritmos de optimización como ADAM, donde la imagen es descompuesta y entrelazada en un mapa de bits determinando el tamaño y cantidad de píxeles de forma que, la calidad pueda ser mínima pero a su vez mantenga información relevante para llevar acabo el reconocimiento.\n",
    "\n",
    "\n",
    "# 2. Máquinas de vectores de soporte:\n",
    "\n",
    "\n",
    "Una máquina de vectores de soporte se conforman por un grupo de algoritmos para el aprendizaje supervisado. Donde el algoritmo es entrenado a partir de un conjunto de datos, generando etiquetas y modelos para contar con la posibilidad de predecir eventos en una imagen. \n",
    "\n",
    "La aplicación de una máquina de vectores de soporte establece los puntos característicos a identificar trazando una malla que cubre por completo el rostro de una imagen, determinando principalmente que los puntos con relieve como lo son ojos, nariz, cejas, boca. Generalmente estos puntos tienen diferentes comportamientos, pero al unirse, estarán vinculados a una emoción en particular. \n",
    "\n",
    "Para la detección de una emoción haciendo uso de máquinas de vectores de soporte, primero se captura la imagen en este caso en tiempo real, seguido de la extracción de la cara y características relevantes que permitirán trazar la malla para definir los puntos claves. Esta información es guardada y marcada según a la emoción que corresponda o se desee evaluar luego de que el sistema esté entrenado. La información se guarda en un vector.\n",
    "\n",
    "Como los datos se reciben crudos, sin ningún tipo de procesamiento, es necesario aplicar algoritmos de reducción y preprocesamiento. En el trabajo \"A robust method for face recognition and face emotion detection system using support vector machines\", el cual hace uso de las máquinas de vectores de soporte se debe apoyar en otros métodos, técnicas y algoritmos para obtener imágenes de menor tamaño, que conserven la información necesaria para lograr la detección de un rostro.\n",
    "\n",
    "La máquina de vectores de soporte, se enfoca en la identificación de emociones haciendo uso de clases o imágenes que contienen la información como distribucción de los puntos de la cara, etiqueta y señalización de los puntos clave, y unión de los mismos para así identificar diferentes tipos de emociones.\n",
    "\n",
    "\n",
    "\n",
    "\n",
    "\n",
    "- Teniendo en cuenta la forma de captura en un implementación realizada con autocodificadores variacionales factorizados o máquinas de vectores de soporte, se plantea realizar el análisis sobre estas dos formas de reconocimiento facial y de emociones para determinar el que mejor se ajuste al criterio de precisión en la identficación de una emoción, pero que además cuente con el bajo consumo de recursos computacionales."
   ]
  },
  {
   "cell_type": "markdown",
   "metadata": {},
   "source": [
    "# Bibliografía\n",
    "\n",
    "[1] RAJESH, K. M.; NAVEENKUMAR, M. A robust method for face recognition and face emotion detection system using support vector machines. En 2016 International Conference on Electrical, Electronics, Communication, Computer and Optimization Techniques (ICEECCOT). IEEE, 2016. p. 1-5.\n",
    "\n",
    "[2] DENG, Zhiwei, et al. Factorized variational autoencoders for modeling audience reactions to movies. En Proceedings of the IEEE Conference on Computer Vision and Pattern Recognition. 2017. p. 2577-2586.\n",
    "\n",
    "[3]Open Source Computer Vision Library, https://opencv.org/, Online 2019\n",
    "\n",
    "[4] A. P. e. a. Vermeeren, «User experience evaluation methods: current state and\n",
    "development needs,» de En Proceedings of the 6th Nordic Conference on HumanComputer Interaction: Extending Boundaries. ACM, 2010\n",
    "\n",
    "[5] P. Ekman y D. Cordaro, «What is meant by calling emotions basic,» Emotion review, vol. 3,\n",
    "nº 4, pp. 364-370, 2011. \n",
    "\n"
   ]
  }
 ],
 "metadata": {
  "kernelspec": {
   "display_name": "Python 2",
   "language": "python",
   "name": "python2"
  },
  "language_info": {
   "codemirror_mode": {
    "name": "ipython",
    "version": 2
   },
   "file_extension": ".py",
   "mimetype": "text/x-python",
   "name": "python",
   "nbconvert_exporter": "python",
   "pygments_lexer": "ipython2",
   "version": "2.7.16"
  }
 },
 "nbformat": 4,
 "nbformat_minor": 2
}

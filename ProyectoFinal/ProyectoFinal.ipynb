{
 "cells": [
  {
   "cell_type": "markdown",
   "metadata": {},
   "source": [
    "# Proyecto Final Análisis Algoritmos parte I\n",
    "\n",
    "Contenido del documento:\n",
    "\n",
    "1. Introducción\n",
    "2. Planteamiento del problema\n",
    "3. Objetivo General\n",
    "4. Objetivos específicos\n",
    "5. Justificación\n",
    "6. Análisis del algoritmo\n",
    "7. Bibliografía"
   ]
  },
  {
   "cell_type": "markdown",
   "metadata": {},
   "source": [
    "# Introducción\n",
    "\n",
    "\n",
    "\n",
    "La motivación para la construcción de este proyecto se da a partir de las diversas posibilidades de obtener información sobre la experiencia de usuario al utilizar un producto, por medio del reconocimiento facial y las emociones. Este trabajo final de curso está asociado a una investigación previa llevada a cabo para el desarrollo del proyecto de grado. Aquí se realizará un análisis de los algoritmos que permiten la captura de emociones, al menos 3 de ellos, con el fin de identificar el más óptimo a implementar en la herramienta final.\n",
    "\n",
    "El análisis de los algoritmos que aquí se presentan, se ajustan a las necesidades planteadas inicialmente como lo son:  1) rápidez en la ejecución; 2) poco consumo de recursos computacionales; y 3) precisión en los resultados. Esto es necesario, pues el desarrollo final de la herramienta está pensado para ejecutarse en un ambiente web en tiempo real.\n",
    "\n",
    "Más allá de los problemas asociados a las características de compatibilidad con hardware que generalmente presentan los algoritmos, en este caso es necesario cubrir las necesidades a nivel de software, como por ejemplo, la precisión en el entrenamiento, para posteriormente realizar el etiquetado de lo observado a una respectiva emoción de manera precisa. Los algoritmos de reconocimiento facial son muy vulnerables, ya que el ser humano cuenta con la capacidad de ocultar sus emociones y reflejar otras que no corresponden a la realidad, causando que el etiquetado e identificación de una imagen no concuerde con lo real.\n",
    "\n",
    "Por está razón el análisis de los algoritmos a parte de los requisitos técnicos que se espera que cumpla, se enfocará en la precisión y capacidad de evaluar pequeñas secciones del rostro, para así analizar las emociones más al detalle y hacer énfasis en la micro expresión y no la macro expresión. Pues bien como ya se conoce, hoy en día hay muchos algoritmos que prometen precisión en el reconocimiento de la macro expresión y rostro en general.\n",
    "\n",
    "\n",
    "\n",
    "\n",
    "\n",
    "\n",
    "Conocer la satisfacción del usuario al hacer uso de un sistema, se ha convertido en una\n",
    "necesidad por parte de los desarrolladores de software. Sin embargo, los resultados\n",
    "proporcionados por los métodos de evaluación de la experiencia de usuario pueden ser\n",
    "subjetivos. Las técnicas de evaluación para conocer lo que siente una persona al hacer uso de un\n",
    "producto van desde cuestionarios, escalas de satisfacción y técnicas de observación, las cuales se\n",
    "realizan principalmente finalizada la interacción. Los sistemas de reconocimiento facial aparecen\n",
    "como una opción para la captura de emociones asociadas a sentimientos generados en el uso de\n",
    "productos de software. Estos sistemas son fácilmente vulnerados ya que, una persona está en la\n",
    "capacidad de simular una emoción. La captura de las micro expresiones se presentan como una\n",
    "alternativa para identificar emociones, debido a que estos métodos son más precisos, dado que\n",
    "se enfocan en las acciones involuntarias e imperceptibles por el ojo humano. En este proyecto se\n",
    "busca conocer la satisfacción de niños en situación de discapacidad auditiva oralizados al utilizar\n",
    "un sistema para apoyar sus terapias del lenguaje. Se opta por el reconocimiento a partir de micro\n",
    "expresiones, porque es una técnica menos invasiva. Se espera que la información capturada sea\n",
    "más objetiva y a su vez brinde la posibilidad de evaluar la experiencia de usuario.\n"
   ]
  },
  {
   "cell_type": "markdown",
   "metadata": {},
   "source": [
    "# Planteamiento del problema\n",
    "\n",
    "Considerando el propósito del curso, el problema que se quiere analizar es la precisón de los algoritmos de reconocimiento facial para la detección de micro expresiones. Esto con el fin de identificar el algoritmo que mejor asocie un característica del rostro a un sentimiento de la vida real, para así mitigar el impacto que tiene las macro expresiones, ya que estas se pueden ocultar. \n",
    "\n",
    "En teorías las microexpresiones no pueden ocultarse, pues son acciones primitivas que están fuertemente relacionadas a las emociones básicas. Por esta razón y para identificar las posibilidades que ofrecen los algoritmos a nivel de confiabilidad, se estudiarán otros comportamientos a parte del rendimiento en una máquina.\n",
    "\n",
    "El problema que se plantea en este trabajo, radica en que los algoritmos de reconocimiento facial capturan características a gran escala, las cuales pueden pertenecer a otro conjunto de una emoción a representar, lo que causa que al momento de identificar una emoción el algoritmo pueda confundirse. Esto hace que sea necesario estudiar más a detalle la características del rostro primitivas que han sido descartadas en muchos casos por ser imperceptibles al ojo humano."
   ]
  },
  {
   "cell_type": "markdown",
   "metadata": {},
   "source": [
    "# Objetivo General\n",
    "\n",
    "Identificar el algoritmo de reconocimiento facial con mayor precisión al momento de evaluar características del rostro para determinar una emoción asociada a una mic"
   ]
  }
 ],
 "metadata": {
  "kernelspec": {
   "display_name": "Python 2",
   "language": "python",
   "name": "python2"
  },
  "language_info": {
   "codemirror_mode": {
    "name": "ipython",
    "version": 2
   },
   "file_extension": ".py",
   "mimetype": "text/x-python",
   "name": "python",
   "nbconvert_exporter": "python",
   "pygments_lexer": "ipython2",
   "version": "2.7.16"
  }
 },
 "nbformat": 4,
 "nbformat_minor": 2
}

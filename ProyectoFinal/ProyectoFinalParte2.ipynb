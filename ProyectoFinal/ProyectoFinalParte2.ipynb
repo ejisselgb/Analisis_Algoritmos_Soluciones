{
 "cells": [
  {
   "cell_type": "markdown",
   "metadata": {},
   "source": [
    "# Proyecto Final Curso: Análisis de Algoritmos parte 2\n",
    "\n",
    "Contenido del documento:\n",
    "\n",
    "1. Estudio y comparación de los algoritmos\n",
    "2. Resultados del estudio\n",
    "3. Aplicabilidad y caso éxito\n",
    "4. Conclusiones\n",
    "5. Bibliografía"
   ]
  },
  {
   "cell_type": "markdown",
   "metadata": {},
   "source": [
    "# 1.Estudio de los algoritmos\n",
    "\n",
    "- Autocodificadores variacionales factorizados:\n",
    "\n",
    "Para comprender el comportamiento de los Autocodificadores variaciones factorizados propuestos en el trabajo \"Factorized Variational Autoencoders for Modeling Audience Reactions to Movies\" con el fin de identificar las reacciones de los usuarios al ver una serie de películas [ref], es necesario llevar a cabo el estudio de las técnicas que lo conforman: 1) factorización de tensores y 2) factorización de tensores no lineal.\n",
    "\n",
    "\n",
    "\n"
   ]
  },
  {
   "cell_type": "code",
   "execution_count": 3,
   "metadata": {},
   "outputs": [],
   "source": [
    "import os\n",
    "import numpy as np\n",
    "import pandas as pd\n",
    "\n",
    "PATH = 'C:/Users/pc/Desktop/Universidad/AnalisisAlgoritmos/Analisis_Algoritmos_Soluciones/ProyectoFinal/dataset/GoldenAgeOfHollywood_networkdata/'\n",
    "PATHNAME = 'HollywoodGoldenAge_names.txt'\n",
    "graphs = []\n",
    "\n",
    "for filename in os.listdir(PATH):\n",
    "    if filename.endswith(\"_s2.txt\"):\n",
    "        df = pd.read_csv(PATH+filename, header=None, sep='\\t')\n",
    "        tmp = df.values\n",
    "        np.fill_diagonal(tmp, 0)\n",
    "        graphs.append(tmp)\n",
    "\n",
    "graphs = np.asarray(graphs)\n",
    "graphs = np.swapaxes(graphs, 0, 2)\n",
    "graphs = graphs.astype(float)\n",
    "#print(graphs)\n",
    "\n",
    "names = pd.read_csv(PATH+PATHNAME, header=None, sep=' ').values\n",
    "names = names[:,0]\n",
    "\n",
    "#print(names)"
   ]
  },
  {
   "cell_type": "markdown",
   "metadata": {},
   "source": [
    "# Factorización de tensores\n",
    "\n",
    "Una matriz de múltiples dimensiones se conoce como un tensor. Dentro de un tensor es posible encontrar numerosa información la cual puede ser accedida ya sea por medio de un escalar, un vector o la matriz completa.\n",
    "\n",
    "\n",
    "Para la descomposición de los tensores es encuentran diversos métodos. El utilizado como referencia para este proyecto está asociado a los autocodificadores variacionales factorizados."
   ]
  },
  {
   "cell_type": "code",
   "execution_count": null,
   "metadata": {},
   "outputs": [],
   "source": []
  }
 ],
 "metadata": {
  "kernelspec": {
   "display_name": "Python 2",
   "language": "python",
   "name": "python2"
  },
  "language_info": {
   "codemirror_mode": {
    "name": "ipython",
    "version": 2
   },
   "file_extension": ".py",
   "mimetype": "text/x-python",
   "name": "python",
   "nbconvert_exporter": "python",
   "pygments_lexer": "ipython2",
   "version": "2.7.16"
  }
 },
 "nbformat": 4,
 "nbformat_minor": 2
}

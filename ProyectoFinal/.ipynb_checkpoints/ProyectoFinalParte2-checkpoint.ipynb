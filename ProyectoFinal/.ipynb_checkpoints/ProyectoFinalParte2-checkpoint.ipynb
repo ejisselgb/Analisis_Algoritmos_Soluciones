{
 "cells": [
  {
   "cell_type": "markdown",
   "metadata": {},
   "source": [
    "# Proyecto Final Curso: Análisis de Algoritmos parte 2\n",
    "\n",
    "Contenido del documento:\n",
    "\n",
    "1. Estudio y comparación de los algoritmos\n",
    "2. Resultados del estudio\n",
    "3. Aplicabilidad y caso éxito\n",
    "4. Conclusiones\n",
    "5. Bibliografía"
   ]
  },
  {
   "cell_type": "code",
   "execution_count": null,
   "metadata": {},
   "outputs": [],
   "source": [
    "import os\n",
    "import numpy as np\n",
    "import pandas as pd\n",
    "import tensorly as tl\n",
    "\n",
    "\n"
   ]
  }
 ],
 "metadata": {
  "kernelspec": {
   "display_name": "Python 2",
   "language": "python",
   "name": "python2"
  },
  "language_info": {
   "codemirror_mode": {
    "name": "ipython",
    "version": 2
   },
   "file_extension": ".py",
   "mimetype": "text/x-python",
   "name": "python",
   "nbconvert_exporter": "python",
   "pygments_lexer": "ipython2",
   "version": "2.7.16"
  }
 },
 "nbformat": 4,
 "nbformat_minor": 2
}

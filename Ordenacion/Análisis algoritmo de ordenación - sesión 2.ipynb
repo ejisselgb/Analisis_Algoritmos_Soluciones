{
 "cells": [
  {
   "cell_type": "markdown",
   "metadata": {},
   "source": [
    "# Ordenación un elemento primordial de la ciencias de la computación\n",
    "\n",
    "La ordenación de elementos en las ciencias de la computación es muy importante, ya que permite encontrar el orden de los valores que conforman una lista o arreglo. Esto es una situación muy común de encontrar en prácticas de desarrollo de software. Sin embargo, muchos de los procesos de ordenación se pueden volver complejos dependiendo el tipo y cantidad de datos que se ordenarán.\n",
    "\n",
    "En este trabajo se presenta un algoritmo de ordenación de números que están entre 1 y 10.000. Esto podría parecer que toma mucho tiempo a la máquina, pero el uso de la técnica que se presenta a continuación, realiza el proceso en un tiempo aproximado de 0.017 segundos, siendo rápido si se compara con otras técnicas como por ejemplo burbuja\n",
    "\n",
    "\n"
   ]
  },
  {
   "cell_type": "raw",
   "metadata": {},
   "source": [
    "ALGORITMO DE ORDENAMIENTO\n",
    "\n",
    "Procedimiento casilla(T[1...n])\n",
    "{ordena enteros entre 1 y 10.000}\n",
    "matriz U[1...10.000]\n",
    "para k <- 1 hasta 10.000 hacer U[k] = 0\n",
    "para i <- 1 hasta n hacer \n",
    "    k <- T[i]\n",
    "    U[k] <- U[k]+1\n",
    "i = 0\n",
    "para k <- 1 hasta 10.000 hacer\n",
    "    while U[k] <> 0\n",
    "        i <- i+1\n",
    "        T[i] <- k\n",
    "        U[k] <- U[k] - 1\n"
   ]
  },
  {
   "cell_type": "code",
   "execution_count": 22,
   "metadata": {},
   "outputs": [
    {
     "name": "stdout",
     "output_type": "stream",
     "text": [
      "('Array inicial ', array([1752,  953, 6030, ..., 8141, 1931,  681]))\n",
      "('Array Ordenado ', array([   2,    2,    3, ..., 9997, 9998, 9998]))\n"
     ]
    }
   ],
   "source": [
    "import time\n",
    "import numpy.random as nprnd\n",
    "\n",
    "def sorting(array, n):\n",
    "    print('Array inicial ', array)\n",
    "    \n",
    "    U = list(array)\n",
    "\n",
    "    for k in range(0, len(U)): \n",
    "        U[k] = 0\n",
    "    \n",
    "    for i in range(0, n):\n",
    "        k = array[i]\n",
    "        U[k] = U[k] + 1\n",
    "    i = 0\n",
    "    \n",
    "    for k in range(0, n):\n",
    "        while U[k] <> 0:\n",
    "            array[i] = k\n",
    "            i = i + 1\n",
    "            U[k] = U[k] -1\n",
    "            \n",
    "    print('Array Ordenado ', array)\n",
    "\n",
    "array = nprnd.randint(10000, size=10000)\n",
    "n = len(array)\n",
    "t = time.time()\n",
    "sorting(array, n)\n",
    "tf = time.time()-t"
   ]
  },
  {
   "cell_type": "markdown",
   "metadata": {},
   "source": [
    "# Conclusión\n",
    "\n",
    "En la implementación del algoritmo fue posible encontrar que hay una línea que no ejecuta la acción esperada de manera correcta. \n",
    "En el algoritmo se presenta un error en uno de los ciclos for (tercero), en la siguiente línea:\n",
    "\n",
    "T[i] <- k\n",
    "U[k] <- U[k] - 1\n",
    "\n",
    "Sin embargo, al momento de llevar a cabo la implementación esto genera un error, indicando que el indice supera el límite, por lo que es necesario que primero se realice la asignación y luego se incremenete la variable, permitiendo así finalizar el proceso, sin intentar realizar una asignación adicional, a pesar de haber terminado.\n",
    "\n",
    "La línea de código en python finalmente quedo: \n",
    "\n",
    "array[i] = k\n",
    "i = i + 1\n",
    "\n",
    "Esto ocurre ya que en la definición del algoritmo, se inicia desde 1 y no en cero. Lo cual también es un problema ya que ocasiona que el número cero no sea contado ni tomado en cuenta en el ordenamiento.\n",
    "\n",
    "Como conclusión general de la implementación del algoritmo, fue sencillo de realizar y al compararlo con otros algoritmos como  burbuja, presenta un rendimiento significativo con la cantidad de valores esperados a ordenar (10.000)."
   ]
  },
  {
   "cell_type": "markdown",
   "metadata": {},
   "source": [
    "# Bibliografía\n",
    "\n",
    "[1] Gilles Brassard y Paul Bratley, Fundamentos de algoritmia, 1997"
   ]
  }
 ],
 "metadata": {
  "kernelspec": {
   "display_name": "Python 2",
   "language": "python",
   "name": "python2"
  },
  "language_info": {
   "codemirror_mode": {
    "name": "ipython",
    "version": 2
   },
   "file_extension": ".py",
   "mimetype": "text/x-python",
   "name": "python",
   "nbconvert_exporter": "python",
   "pygments_lexer": "ipython2",
   "version": "2.7.16"
  }
 },
 "nbformat": 4,
 "nbformat_minor": 2
}

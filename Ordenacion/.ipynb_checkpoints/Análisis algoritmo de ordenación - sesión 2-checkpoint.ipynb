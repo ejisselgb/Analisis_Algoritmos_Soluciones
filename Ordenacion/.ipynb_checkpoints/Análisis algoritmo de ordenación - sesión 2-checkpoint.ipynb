{
 "cells": [
  {
   "cell_type": "markdown",
   "metadata": {},
   "source": [
    "# Ordenación un elemento primordial de la ciencias de la computación\n",
    "\n",
    "La ordenación de elementos en las ciencias de la computación es muy importante, ya que permite validar que valor va primero que otro. Sin embargo, muchos de los procesos de ordenación se pueden volver complejos dependiendo de el tipo y cantidad de datos que se ordenarán.\n",
    "\n",
    "En este trabajo se presenta un algoritmo de ordenación de número que están entre 1 y 10.000. Esto podría parecer que toma mucho tiempo a la máquina, pero el uso de la técnica que se presenta a continuación, realiza el proceso de ordenación en un tiempo (CANTIDAD TIEMPO AQUÍ) considerable a pesar de la cantidad de información. \n",
    "\n",
    "\n"
   ]
  },
  {
   "cell_type": "raw",
   "metadata": {},
   "source": [
    "ALGORITMO DE ORDENAMIENTO\n",
    "\n",
    "Procedimiento casilla(T[1...n])\n",
    "{ordena enteros entre 1 y 10.000}\n",
    "matriz U[1...10.000]\n",
    "para k <- 1 hasta 10.000 hacer U[k] = 0\n",
    "para i <- 1 hasta n hacer \n",
    "    k <- T[i]\n",
    "    U[k] <- U[k]+1\n",
    "i = 0\n",
    "para k <- 1 hasta 10.000 hacer\n",
    "    while U[k] <> 0\n",
    "        i <- i+1\n",
    "        T[i] <- k\n",
    "        U[k] <- U[k] - 1\n"
   ]
  },
  {
   "cell_type": "code",
   "execution_count": 22,
   "metadata": {},
   "outputs": [
    {
     "name": "stdout",
     "output_type": "stream",
     "text": [
      "('Array inicial ', array([1, 4, 2, 9, 9, 2, 0, 1, 1, 4]))\n",
      "('Arrayb final ', [2, 0, 0, 0, 0, 0, 0, 0, 0, 0])\n",
      "('Array final ', array([1, 1, 1, 2, 2, 4, 4, 9, 9, 4]))\n"
     ]
    }
   ],
   "source": [
    "import time\n",
    "import numpy.random as nprnd\n",
    "\n",
    "def sorting(array, n):\n",
    "    print('Array inicial ', array)\n",
    "    \n",
    "    U = [1,2,3,4,5,6,7,8,9,10]\n",
    "    for k in range(1, 10): \n",
    "        U[k] = 0\n",
    "    for i in range(1, n):\n",
    "        k = array[i]\n",
    "        U[k] = U[k] + 1\n",
    "    i = 0\n",
    "    for k in range(1, 10):\n",
    "        while U[k] <> 0:\n",
    "            i = i + 1\n",
    "            array[i] = k\n",
    "            U[k] = U[k] -1\n",
    "            \n",
    "    print('Arrayb final ', U)\n",
    "    print('Array final ', array)\n",
    "\n",
    "array = nprnd.randint(10, size=10)\n",
    "n = len(array)\n",
    "sorting(array, n)\n",
    "    "
   ]
  },
  {
   "cell_type": "markdown",
   "metadata": {},
   "source": [
    "# Conclusión\n",
    "\n",
    "Describir aquí"
   ]
  },
  {
   "cell_type": "markdown",
   "metadata": {},
   "source": [
    "# Bibliografía\n",
    "\n",
    "[1] Gilles Brassard y Paul Bratley, Fundamentos de algoritmia, 1997"
   ]
  }
 ],
 "metadata": {
  "kernelspec": {
   "display_name": "Python 2",
   "language": "python",
   "name": "python2"
  },
  "language_info": {
   "codemirror_mode": {
    "name": "ipython",
    "version": 2
   },
   "file_extension": ".py",
   "mimetype": "text/x-python",
   "name": "python",
   "nbconvert_exporter": "python",
   "pygments_lexer": "ipython2",
   "version": "2.7.16"
  }
 },
 "nbformat": 4,
 "nbformat_minor": 2
}

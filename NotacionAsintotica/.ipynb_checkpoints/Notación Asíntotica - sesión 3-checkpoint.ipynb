{
 "cells": [
  {
   "cell_type": "markdown",
   "metadata": {},
   "source": [
    "# Notación Asintótica\n",
    "\n",
    "Con el fin de identificar el rendimiento de los algoritmos propuestos en la sección 3, se determina su respectiva notación y tiempo de ejecución.\n"
   ]
  },
  {
   "cell_type": "raw",
   "metadata": {},
   "source": [
    "Algoritmo 1\n",
    "\n",
    "prueba = 0\n",
    "Para i = 1 hasta n hacer:\n",
    "    Para j = 1 hasta n hacer:\n",
    "        prueba = prueba + i * j"
   ]
  },
  {
   "cell_type": "markdown",
   "metadata": {},
   "source": [
    "Operaciones de asignación: Hay una operación de asignación evidenciada en la línea 1.\n",
    "\n",
    "Ciclos anidados: Hay un ciclo for anidado lo que corresponde a n^2, con una asignación interna.\n",
    "\n",
    "En total da: T(n) = 1(n^2)+1 = n^2+1 (Orden de complejidad)"
   ]
  },
  {
   "cell_type": "code",
   "execution_count": 2,
   "metadata": {},
   "outputs": [],
   "source": [
    "def algorithm1(n):\n",
    "    prueba = 0\n",
    "    for i in range(1, n):\n",
    "        for j in range(1, n):\n",
    "            prueba = prueba + i * j\n",
    "\n",
    "    print(\"Resultado algoritmo 1 \", prueba)"
   ]
  },
  {
   "cell_type": "markdown",
   "metadata": {},
   "source": [
    "La notación asíntotica para el algoritmo 1 está representada por: $\\mathcal{O}(n^2)$"
   ]
  },
  {
   "cell_type": "raw",
   "metadata": {},
   "source": [
    "Algoritmo 2\n",
    "\n",
    "prueba = 0\n",
    "Para i = 1 hasta n hacer:\n",
    "   prueba = prueba + 1\n",
    "\n",
    "Para ij = 1 hasta n hacer:\n",
    "   prueba = prueba - 1"
   ]
  },
  {
   "cell_type": "markdown",
   "metadata": {},
   "source": [
    "\n",
    "Operaciones de asignación: Hay una operación de asignación en la línea 1.\n",
    "\n",
    "Ciclos anidados: No hay ciclos anidados.\n",
    "\n",
    "Ciclos for simples: Hay dos ciclos con una instrucción interna, casa for estaría dado por 1n + 1n = 2n\n",
    "\n",
    "En total da: T(n) = 2n + 1 (Orden de complejidad)"
   ]
  },
  {
   "cell_type": "code",
   "execution_count": 4,
   "metadata": {},
   "outputs": [],
   "source": [
    "def algorithm2(n):\n",
    "    prueba = 0\n",
    "    for i in range(1,n):\n",
    "        prueba = prueba + 1\n",
    "\n",
    "    for j in range(1, n):\n",
    "        prueba = prueba -1\n",
    "\n",
    "    print(\"Resultado algoritmo 2 \", prueba)"
   ]
  },
  {
   "cell_type": "markdown",
   "metadata": {},
   "source": [
    "La notación asíntotica para el algoritmo 2 está representada por: $\\mathcal{O}(2n)$"
   ]
  },
  {
   "cell_type": "raw",
   "metadata": {},
   "source": [
    "Algoritmo 3\n",
    "\n",
    "i = n\n",
    "Mientras i > 0 hacer:\n",
    "   k = 2 + 2\n",
    "   i = i // 2"
   ]
  },
  {
   "cell_type": "markdown",
   "metadata": {},
   "source": [
    "Operaciones de asignación = Se evidencia una operación de asignación en la primera línea. (i = n)\n",
    "\n",
    "Ciclos anidados: Ninguno\n",
    "\n",
    "Ciclos simples (While): un ciclo while está dado por log(n). En su interior es posible encontrar dos asignaciones, por lo que la asignación de complejida para este ciclo sería de 2log(n). \n",
    "\n",
    "En total da: T(n) = 2log(n) + 1"
   ]
  },
  {
   "cell_type": "code",
   "execution_count": 3,
   "metadata": {},
   "outputs": [],
   "source": [
    "def algorithm3(n):\n",
    "    i = n\n",
    "    while i > 0 :\n",
    "        k = 2 + 2\n",
    "        i = i - 1 #Se agrega esta condicion para terminar con exito el flujo del algoritmo\n",
    "    print(\"Resultado algoritmo 3 \", k)\n",
    "    \n"
   ]
  },
  {
   "cell_type": "markdown",
   "metadata": {},
   "source": [
    "La notación asíntotica para el algoritmo 3 está representada por: $\\mathcal{O}(log(n))$"
   ]
  },
  {
   "cell_type": "code",
   "execution_count": 7,
   "metadata": {},
   "outputs": [
    {
     "name": "stdout",
     "output_type": "stream",
     "text": [
      "('Resultado algoritmo 1 ', 2025)\n",
      "('Resultado algoritmo 2 ', 0)\n",
      "('Resultado algoritmo 3 ', 4)\n"
     ]
    },
    {
     "data": {
      "image/png": "[encoded data removed]",
      "text/plain": [
       "<Figure size 432x288 with 1 Axes>"
      ]
     },
     "metadata": {
      "needs_background": "light"
     },
     "output_type": "display_data"
    }
   ],
   "source": [
    "import time\n",
    "import pylab\n",
    "\n",
    "n = 10\n",
    "\n",
    "t1 = time.time()\n",
    "algorithm1(n)\n",
    "tf1 = time.time()-t1\n",
    "\n",
    "t2 = time.time()\n",
    "algorithm2(n)\n",
    "tf2 = time.time()-t2\n",
    "\n",
    "t3 = time.time()\n",
    "algorithm3(n)\n",
    "tf3 = time.time()-t3\n",
    "\n",
    "x=[0, n]\n",
    "tff1=[tf1, 0]\n",
    "tff2=[tf2, 0]\n",
    "tff3=[tf3, 0]\n",
    "pylab.plot(tff1, x, label = \"algortimo 1\")\n",
    "pylab.plot(tff2, x, label = \"algortimo 2\")\n",
    "pylab.plot(tff3, x, label = \"algortimo 3\")\n",
    "pylab.legend(loc='upper right')\n",
    "\n",
    "pylab.xlabel(\"Tiempo\")\n",
    "pylab.ylabel(\"Datos\") \n",
    "\n",
    "pylab.show()\n",
    "\n",
    "\n",
    "\n"
   ]
  }
 ],
 "metadata": {
  "kernelspec": {
   "display_name": "Python 2",
   "language": "python",
   "name": "python2"
  },
  "language_info": {
   "codemirror_mode": {
    "name": "ipython",
    "version": 2
   },
   "file_extension": ".py",
   "mimetype": "text/x-python",
   "name": "python",
   "nbconvert_exporter": "python",
   "pygments_lexer": "ipython2",
   "version": "2.7.16"
  }
 },
 "nbformat": 4,
 "nbformat_minor": 2
}
